{
 "cells": [
  {
   "cell_type": "code",
   "execution_count": 2,
   "metadata": {},
   "outputs": [],
   "source": [
    "import requests\n",
    "from bs4 import BeautifulSoup"
   ]
  },
  {
   "cell_type": "code",
   "execution_count": 3,
   "metadata": {},
   "outputs": [],
   "source": []
  },
  {
   "cell_type": "code",
   "execution_count": 6,
   "metadata": {},
   "outputs": [],
   "source": [
    "def extract(page):\n",
    "    headers={'User-Agent':'Mozilla/5.0 (Windows NT 10.0; Win64; x64) AppleWebKit/537.36 (KHTML, like Gecko) Chrome/87.0.4280.88 Safari/537.36'}\n",
    "    url=(f'https://in.indeed.com/jobs?q=data+science+fresher&l=Mumbai,+Maharashtra&start={page}')\n",
    "    r=requests.get(url,headers)\n",
    "    soup=BeautifulSoup(r.content,'html.parser')\n",
    "    return soup\n",
    "    "
   ]
  },
  {
   "cell_type": "code",
   "execution_count": 27,
   "metadata": {},
   "outputs": [],
   "source": [
    "def transform(soup):\n",
    "    divs=soup.find_all('div',class_='jobsearch-SerpJobCard')\n",
    "    for item in divs:\n",
    "        title=item.find('a').text.strip()\n",
    "        company=item.find('span',class_='company').text.strip()\n",
    "        try:\n",
    "            salary=item.find('span',class_='salaryText').text.strip()\n",
    "        except:\n",
    "            salary='Not mentioned'\n",
    "        summary=item.find('div',class_='summary').text.strip().replace('\\n','') \n",
    "        \n",
    "        job={\n",
    "            'title':title,\n",
    "            'company':company,\n",
    "            'summary':summary\n",
    "        }\n",
    "        joblist.append(job)\n",
    "        \n",
    "    return              \n",
    "joblist=[]        \n",
    "        \n",
    "        \n",
    "       "
   ]
  },
  {
   "cell_type": "code",
   "execution_count": null,
   "metadata": {},
   "outputs": [],
   "source": []
  },
  {
   "cell_type": "code",
   "execution_count": null,
   "metadata": {},
   "outputs": [],
   "source": []
  },
  {
   "cell_type": "code",
   "execution_count": null,
   "metadata": {},
   "outputs": [],
   "source": []
  },
  {
   "cell_type": "code",
   "execution_count": null,
   "metadata": {},
   "outputs": [],
   "source": []
  },
  {
   "cell_type": "code",
   "execution_count": 7,
   "metadata": {},
   "outputs": [],
   "source": [
    "c=extract(0)"
   ]
  },
  {
   "cell_type": "code",
   "execution_count": 9,
   "metadata": {},
   "outputs": [
    {
     "name": "stdout",
     "output_type": "stream",
     "text": [
      "15\n"
     ]
    }
   ],
   "source": [
    "#print(transform(c))"
   ]
  },
  {
   "cell_type": "code",
   "execution_count": 28,
   "metadata": {},
   "outputs": [],
   "source": [
    "transform(c)"
   ]
  },
  {
   "cell_type": "code",
   "execution_count": 29,
   "metadata": {},
   "outputs": [
    {
     "name": "stdout",
     "output_type": "stream",
     "text": [
      "[{'title': 'Data Analytics part time job/internship at Mumbai', 'company': 'Firework', 'summary': \"Only those students or freshers can apply who:Selected intern's day-to-day responsibilities include: 1. â\\x97\\x8f Research and analyze publisher and brand's data 2.\"}, {'title': 'Web Development Internship', 'company': 'Course5 Intelligence', 'summary': 'Only those students or freshers can apply who:Founded in 2000, our business areas include market intelligence, big data analytics, digital transformation,…'}, {'title': 'Python Development Internship', 'company': 'ToCan Analytics', 'summary': 'Only those students or freshers can apply who:ToCan Analytics is based out of Mumbai and the company provides software solutions for stock markets and data…'}, {'title': 'Information Technology Internship', 'company': 'Meera Cleanfuels Limited', 'summary': 'Only those students or freshers can apply who:Meera Cleanfuels Limited is the next generation clean fuel company.Have relevant skills and interests.'}, {'title': 'Cyber Security Internship', 'company': 'BDO India LLP', 'summary': 'Perform assessment for clients on data privacy, data leakage prevention, identity, and access management 4.Only those students or freshers can apply who:'}, {'title': 'Web Development part time job/internship at Mumbai', 'company': 'Faclon', 'summary': 'Only those students or freshers can apply who:We have an assortment of devices connected over long-range RF and 3G technologies, sending the sensed data to our…'}, {'title': 'Research Associate, PitchBook Data', 'company': 'Morningstar', 'summary': 'The role reads and processes volumes of data and picks out relevant information from news, regulatory filings, and websites to collect key data points on…'}, {'title': 'Agricultural Engineer For Freshers', 'company': 'Agricultural Foreman', 'summary': 'Conduct research, analyze agricultural data and prepare research reports.Published on : 7 days ago.Call & whatsapp HR Sudhir Sir +91-8218594433.'}, {'title': 'DATA ENGINEERS', 'company': 'Vudum Srinu (Proprietor Of Suncity Star Technology...', 'summary': '(BE or Btech or Mtech) and Fresher and (\"data engineer\" or analystics or \"data science\").Bigdata or \"data engineer\" and (spark and scala) and SQL.'}, {'title': 'Web Development Internship', 'company': 'Crystal Titan Containers Private Limited', 'summary': 'Only those students or freshers can apply who:Integrate data from various back-end services and databases 4.Create and maintain software documentation 6.'}, {'title': 'Associate Development Internship', 'company': 'Rolling Arrays', 'summary': 'Learn the integration of data storage solutions and caches.Only those students or freshers can apply who:A consultative approach to HR processes, HR functions…'}, {'title': 'Software Engineering Internship', 'company': 'LenDenClub', 'summary': 'Only those students or freshers can apply who:Academic Score 70% and above (10th, 12th, and graduation) Should be an active participant in any curricular…'}, {'title': 'Python/Django Developer', 'company': 'Minda Solution Tech Mark', 'summary': 'Develop back-end components to improve responsiveness and overall performance.Fresher & experienced both can apply.Good grasp of Web Frameworks.'}, {'title': 'Jr. Data Analyst (Freshers welcome to apply)', 'company': 'Institutional Shareholder Services', 'summary': 'Attend to internal/client queries and requests to ensure data captured is aligned with data methodology and policy guidelines.'}, {'title': 'Android Application Developer', 'company': 'Intellect infotrade', 'summary': 'Work with outside data sources and APIs.We are looking for an Android Developer who has 0 to 6 months of experience.Expected Start Date: 28/12/2020.'}]\n"
     ]
    }
   ],
   "source": [
    "print(joblist)"
   ]
  },
  {
   "cell_type": "code",
   "execution_count": null,
   "metadata": {},
   "outputs": [],
   "source": []
  }
 ],
 "metadata": {
  "kernelspec": {
   "display_name": "Python 3",
   "language": "python",
   "name": "python3"
  },
  "language_info": {
   "codemirror_mode": {
    "name": "ipython",
    "version": 3
   },
   "file_extension": ".py",
   "mimetype": "text/x-python",
   "name": "python",
   "nbconvert_exporter": "python",
   "pygments_lexer": "ipython3",
   "version": "3.7.3"
  }
 },
 "nbformat": 4,
 "nbformat_minor": 2
}
