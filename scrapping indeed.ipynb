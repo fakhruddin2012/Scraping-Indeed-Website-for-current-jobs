{
 "cells": [
  {
   "cell_type": "code",
   "execution_count": 2,
   "metadata": {},
   "outputs": [],
   "source": [
    "import requests\n",
    "from bs4 import BeautifulSoup"
   ]
  },
  {
   "cell_type": "code",
   "execution_count": 30,
   "metadata": {},
   "outputs": [],
   "source": [
    "import pandas as pd"
   ]
  },
  {
   "cell_type": "code",
   "execution_count": 6,
   "metadata": {},
   "outputs": [],
   "source": [
    "def extract(page):\n",
    "    headers={'User-Agent':'Mozilla/5.0 (Windows NT 10.0; Win64; x64) AppleWebKit/537.36 (KHTML, like Gecko) Chrome/87.0.4280.88 Safari/537.36'}\n",
    "    url=(f'https://in.indeed.com/jobs?q=data+science+fresher&l=Mumbai,+Maharashtra&start={page}')\n",
    "    r=requests.get(url,headers)\n",
    "    soup=BeautifulSoup(r.content,'html.parser')\n",
    "    return soup\n",
    "    "
   ]
  },
  {
   "cell_type": "code",
   "execution_count": 39,
   "metadata": {},
   "outputs": [],
   "source": [
    "def transform(soup):\n",
    "    divs=soup.find_all('div',class_='jobsearch-SerpJobCard')\n",
    "    for item in divs:\n",
    "        title=item.find('a').text.strip()\n",
    "        company=item.find('span',class_='company').text.strip()\n",
    "        try:\n",
    "            salary=item.find('span',class_='salaryText').text.strip()\n",
    "        except:\n",
    "            salary='Not mentioned'\n",
    "        summary=item.find('div',class_='summary').text.strip().replace('\\n','') \n",
    "        \n",
    "        job={\n",
    "            'title':title,\n",
    "            'company':company,\n",
    "            'salary':salary,\n",
    "            'summary':summary\n",
    "        }\n",
    "        joblist.append(job)\n",
    "        \n",
    "    return              \n",
    "joblist=[]        \n",
    "        \n",
    "        \n",
    "       "
   ]
  },
  {
   "cell_type": "code",
   "execution_count": 46,
   "metadata": {},
   "outputs": [],
   "source": [
    "for i in range(0,10,10):\n",
    "    c=extract(i)\n",
    "    transform(c)\n",
    "    "
   ]
  },
  {
   "cell_type": "code",
   "execution_count": null,
   "metadata": {},
   "outputs": [],
   "source": []
  },
  {
   "cell_type": "code",
   "execution_count": null,
   "metadata": {},
   "outputs": [],
   "source": []
  },
  {
   "cell_type": "code",
   "execution_count": null,
   "metadata": {},
   "outputs": [],
   "source": []
  },
  {
   "cell_type": "code",
   "execution_count": 7,
   "metadata": {},
   "outputs": [],
   "source": []
  },
  {
   "cell_type": "code",
   "execution_count": 9,
   "metadata": {},
   "outputs": [
    {
     "name": "stdout",
     "output_type": "stream",
     "text": [
      "15\n"
     ]
    }
   ],
   "source": [
    "#print(transform(c))"
   ]
  },
  {
   "cell_type": "code",
   "execution_count": 28,
   "metadata": {},
   "outputs": [],
   "source": []
  },
  {
   "cell_type": "code",
   "execution_count": 47,
   "metadata": {},
   "outputs": [
    {
     "name": "stdout",
     "output_type": "stream",
     "text": [
      "[{'title': 'Data Analytics part time job/internship at Mumbai', 'company': 'Firework', 'salary': '₹15,000 a month', 'summary': \"Only those students or freshers can apply who:Selected intern's day-to-day responsibilities include: 1. â\\x97\\x8f Research and analyze publisher and brand's data 2.\"}, {'title': 'Web Development Internship', 'company': 'Course5 Intelligence', 'salary': '₹12,000 a month', 'summary': 'Only those students or freshers can apply who:Founded in 2000, our business areas include market intelligence, big data analytics, digital transformation,…'}, {'title': 'Python Development Internship', 'company': 'ToCan Analytics', 'salary': '₹8,000 a month', 'summary': 'Only those students or freshers can apply who:ToCan Analytics is based out of Mumbai and the company provides software solutions for stock markets and data…'}, {'title': 'Information Technology Internship', 'company': 'Meera Cleanfuels Limited', 'salary': '₹5,000 - ₹6,000 a month', 'summary': 'Only those students or freshers can apply who:Meera Cleanfuels Limited is the next generation clean fuel company.Have relevant skills and interests.'}, {'title': 'Cyber Security Internship', 'company': 'BDO India LLP', 'salary': '₹10,000 a month', 'summary': 'Perform assessment for clients on data privacy, data leakage prevention, identity, and access management 4.Only those students or freshers can apply who:'}, {'title': 'Web Development part time job/internship at Mumbai', 'company': 'Faclon', 'salary': '₹7,000 - ₹14,000 a month', 'summary': 'Only those students or freshers can apply who:We have an assortment of devices connected over long-range RF and 3G technologies, sending the sensed data to our…'}, {'title': 'Research Associate, PitchBook Data', 'company': 'Morningstar', 'salary': 'Not mentioned', 'summary': 'The role reads and processes volumes of data and picks out relevant information from news, regulatory filings, and websites to collect key data points on…'}, {'title': 'Agricultural Engineer For Freshers', 'company': 'Agricultural Foreman', 'salary': '₹18,000 - ₹25,000 a month', 'summary': 'Conduct research, analyze agricultural data and prepare research reports.Published on : 7 days ago.Call & whatsapp HR Sudhir Sir +91-8218594433.'}, {'title': 'DATA ENGINEERS', 'company': 'Vudum Srinu (Proprietor Of Suncity Star Technology...', 'salary': '₹1,30,000 - ₹4,30,000 a year', 'summary': '(BE or Btech or Mtech) and Fresher and (\"data engineer\" or analystics or \"data science\").Bigdata or \"data engineer\" and (spark and scala) and SQL.'}, {'title': 'Web Development Internship', 'company': 'Crystal Titan Containers Private Limited', 'salary': '₹4,000 a month', 'summary': 'Only those students or freshers can apply who:Integrate data from various back-end services and databases 4.Create and maintain software documentation 6.'}, {'title': 'Associate Development Internship', 'company': 'Rolling Arrays', 'salary': '₹20,000 a month', 'summary': 'Learn the integration of data storage solutions and caches.Only those students or freshers can apply who:A consultative approach to HR processes, HR functions…'}, {'title': 'Software Engineering Internship', 'company': 'LenDenClub', 'salary': '₹10,000 a month', 'summary': 'Only those students or freshers can apply who:Academic Score 70% and above (10th, 12th, and graduation) Should be an active participant in any curricular…'}, {'title': 'Python/Django Developer', 'company': 'Minda Solution Tech Mark', 'salary': '₹1,20,000 - ₹3,50,000 a year', 'summary': 'Develop back-end components to improve responsiveness and overall performance.Fresher & experienced both can apply.Good grasp of Web Frameworks.'}, {'title': 'Jr. Data Analyst (Freshers welcome to apply)', 'company': 'Institutional Shareholder Services', 'salary': 'Not mentioned', 'summary': 'Attend to internal/client queries and requests to ensure data captured is aligned with data methodology and policy guidelines.'}, {'title': 'Android Application Developer', 'company': 'Intellect infotrade', 'salary': '₹6,000 a month', 'summary': 'Work with outside data sources and APIs.We are looking for an Android Developer who has 0 to 6 months of experience.Expected Start Date: 28/12/2020.'}, {'title': 'Data Analytics part time job/internship at Mumbai', 'company': 'Firework', 'salary': '₹15,000 a month', 'summary': \"Only those students or freshers can apply who:Selected intern's day-to-day responsibilities include: 1. â\\x97\\x8f Research and analyze publisher and brand's data 2.\"}, {'title': 'Web Development Internship', 'company': 'Course5 Intelligence', 'salary': '₹12,000 a month', 'summary': 'Only those students or freshers can apply who:Founded in 2000, our business areas include market intelligence, big data analytics, digital transformation,…'}, {'title': 'Python Development Internship', 'company': 'ToCan Analytics', 'salary': '₹8,000 a month', 'summary': 'Only those students or freshers can apply who:ToCan Analytics is based out of Mumbai and the company provides software solutions for stock markets and data…'}, {'title': 'Information Technology Internship', 'company': 'Meera Cleanfuels Limited', 'salary': '₹5,000 - ₹6,000 a month', 'summary': 'Only those students or freshers can apply who:Meera Cleanfuels Limited is the next generation clean fuel company.Have relevant skills and interests.'}, {'title': 'Cyber Security Internship', 'company': 'BDO India LLP', 'salary': '₹10,000 a month', 'summary': 'Perform assessment for clients on data privacy, data leakage prevention, identity, and access management 4.Only those students or freshers can apply who:'}, {'title': 'Web Development part time job/internship at Mumbai', 'company': 'Faclon', 'salary': '₹7,000 - ₹14,000 a month', 'summary': 'Only those students or freshers can apply who:We have an assortment of devices connected over long-range RF and 3G technologies, sending the sensed data to our…'}, {'title': 'Research Associate, PitchBook Data', 'company': 'Morningstar', 'salary': 'Not mentioned', 'summary': 'The role reads and processes volumes of data and picks out relevant information from news, regulatory filings, and websites to collect key data points on…'}, {'title': 'Agricultural Engineer For Freshers', 'company': 'Agricultural Foreman', 'salary': '₹18,000 - ₹25,000 a month', 'summary': 'Conduct research, analyze agricultural data and prepare research reports.Published on : 7 days ago.Call & whatsapp HR Sudhir Sir +91-8218594433.'}, {'title': 'DATA ENGINEERS', 'company': 'Vudum Srinu (Proprietor Of Suncity Star Technology...', 'salary': '₹1,30,000 - ₹4,30,000 a year', 'summary': '(BE or Btech or Mtech) and Fresher and (\"data engineer\" or analystics or \"data science\").Bigdata or \"data engineer\" and (spark and scala) and SQL.'}, {'title': 'Web Development Internship', 'company': 'Crystal Titan Containers Private Limited', 'salary': '₹4,000 a month', 'summary': 'Only those students or freshers can apply who:Integrate data from various back-end services and databases 4.Create and maintain software documentation 6.'}, {'title': 'Associate Development Internship', 'company': 'Rolling Arrays', 'salary': '₹20,000 a month', 'summary': 'Learn the integration of data storage solutions and caches.Only those students or freshers can apply who:A consultative approach to HR processes, HR functions…'}, {'title': 'Software Engineering Internship', 'company': 'LenDenClub', 'salary': '₹10,000 a month', 'summary': 'Only those students or freshers can apply who:Academic Score 70% and above (10th, 12th, and graduation) Should be an active participant in any curricular…'}, {'title': 'Python/Django Developer', 'company': 'Minda Solution Tech Mark', 'salary': '₹1,20,000 - ₹3,50,000 a year', 'summary': 'Develop back-end components to improve responsiveness and overall performance.Fresher & experienced both can apply.Good grasp of Web Frameworks.'}, {'title': 'Jr. Data Analyst (Freshers welcome to apply)', 'company': 'Institutional Shareholder Services', 'salary': 'Not mentioned', 'summary': 'Attend to internal/client queries and requests to ensure data captured is aligned with data methodology and policy guidelines.'}, {'title': 'Android Application Developer', 'company': 'Intellect infotrade', 'salary': '₹6,000 a month', 'summary': 'Work with outside data sources and APIs.We are looking for an Android Developer who has 0 to 6 months of experience.Expected Start Date: 28/12/2020.'}]\n"
     ]
    }
   ],
   "source": [
    "print(joblist)"
   ]
  },
  {
   "cell_type": "code",
   "execution_count": 48,
   "metadata": {},
   "outputs": [],
   "source": [
    "df=pd.DataFrame(joblist)\n"
   ]
  },
  {
   "cell_type": "code",
   "execution_count": 49,
   "metadata": {},
   "outputs": [
    {
     "data": {
      "text/html": [
       "<div>\n",
       "<style scoped>\n",
       "    .dataframe tbody tr th:only-of-type {\n",
       "        vertical-align: middle;\n",
       "    }\n",
       "\n",
       "    .dataframe tbody tr th {\n",
       "        vertical-align: top;\n",
       "    }\n",
       "\n",
       "    .dataframe thead th {\n",
       "        text-align: right;\n",
       "    }\n",
       "</style>\n",
       "<table border=\"1\" class=\"dataframe\">\n",
       "  <thead>\n",
       "    <tr style=\"text-align: right;\">\n",
       "      <th></th>\n",
       "      <th>title</th>\n",
       "      <th>company</th>\n",
       "      <th>salary</th>\n",
       "      <th>summary</th>\n",
       "    </tr>\n",
       "  </thead>\n",
       "  <tbody>\n",
       "    <tr>\n",
       "      <th>0</th>\n",
       "      <td>Data Analytics part time job/internship at Mumbai</td>\n",
       "      <td>Firework</td>\n",
       "      <td>₹15,000 a month</td>\n",
       "      <td>Only those students or freshers can apply who:...</td>\n",
       "    </tr>\n",
       "    <tr>\n",
       "      <th>1</th>\n",
       "      <td>Web Development Internship</td>\n",
       "      <td>Course5 Intelligence</td>\n",
       "      <td>₹12,000 a month</td>\n",
       "      <td>Only those students or freshers can apply who:...</td>\n",
       "    </tr>\n",
       "    <tr>\n",
       "      <th>2</th>\n",
       "      <td>Python Development Internship</td>\n",
       "      <td>ToCan Analytics</td>\n",
       "      <td>₹8,000 a month</td>\n",
       "      <td>Only those students or freshers can apply who:...</td>\n",
       "    </tr>\n",
       "    <tr>\n",
       "      <th>3</th>\n",
       "      <td>Information Technology Internship</td>\n",
       "      <td>Meera Cleanfuels Limited</td>\n",
       "      <td>₹5,000 - ₹6,000 a month</td>\n",
       "      <td>Only those students or freshers can apply who:...</td>\n",
       "    </tr>\n",
       "    <tr>\n",
       "      <th>4</th>\n",
       "      <td>Cyber Security Internship</td>\n",
       "      <td>BDO India LLP</td>\n",
       "      <td>₹10,000 a month</td>\n",
       "      <td>Perform assessment for clients on data privacy...</td>\n",
       "    </tr>\n",
       "  </tbody>\n",
       "</table>\n",
       "</div>"
      ],
      "text/plain": [
       "                                               title  \\\n",
       "0  Data Analytics part time job/internship at Mumbai   \n",
       "1                         Web Development Internship   \n",
       "2                      Python Development Internship   \n",
       "3                  Information Technology Internship   \n",
       "4                          Cyber Security Internship   \n",
       "\n",
       "                    company                   salary  \\\n",
       "0                  Firework          ₹15,000 a month   \n",
       "1      Course5 Intelligence          ₹12,000 a month   \n",
       "2           ToCan Analytics           ₹8,000 a month   \n",
       "3  Meera Cleanfuels Limited  ₹5,000 - ₹6,000 a month   \n",
       "4             BDO India LLP          ₹10,000 a month   \n",
       "\n",
       "                                             summary  \n",
       "0  Only those students or freshers can apply who:...  \n",
       "1  Only those students or freshers can apply who:...  \n",
       "2  Only those students or freshers can apply who:...  \n",
       "3  Only those students or freshers can apply who:...  \n",
       "4  Perform assessment for clients on data privacy...  "
      ]
     },
     "execution_count": 49,
     "metadata": {},
     "output_type": "execute_result"
    }
   ],
   "source": [
    "df.head()"
   ]
  },
  {
   "cell_type": "code",
   "execution_count": 50,
   "metadata": {},
   "outputs": [],
   "source": [
    "df.to_csv('data_science_jobs.csv')"
   ]
  },
  {
   "cell_type": "code",
   "execution_count": 51,
   "metadata": {},
   "outputs": [
    {
     "data": {
      "text/plain": [
       "(30, 4)"
      ]
     },
     "execution_count": 51,
     "metadata": {},
     "output_type": "execute_result"
    }
   ],
   "source": [
    "df.shape"
   ]
  },
  {
   "cell_type": "code",
   "execution_count": null,
   "metadata": {},
   "outputs": [],
   "source": []
  }
 ],
 "metadata": {
  "kernelspec": {
   "display_name": "Python 3",
   "language": "python",
   "name": "python3"
  },
  "language_info": {
   "codemirror_mode": {
    "name": "ipython",
    "version": 3
   },
   "file_extension": ".py",
   "mimetype": "text/x-python",
   "name": "python",
   "nbconvert_exporter": "python",
   "pygments_lexer": "ipython3",
   "version": "3.7.3"
  }
 },
 "nbformat": 4,
 "nbformat_minor": 2
}
